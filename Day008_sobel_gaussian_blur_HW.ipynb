{
 "cells": [
  {
   "cell_type": "code",
   "execution_count": 21,
   "metadata": {},
   "outputs": [],
   "source": [
    "import cv2\n",
    "import numpy as np\n",
    "\n",
    "img = cv2.imread('lena.png')"
   ]
  },
  {
   "cell_type": "markdown",
   "metadata": {},
   "source": [
    "# homework"
   ]
  },
  {
   "cell_type": "markdown",
   "metadata": {},
   "source": [
    "# 邊緣檢測\n",
    "# 比較 Sobel 如果在 uint8 的情況下做會 overflow 的狀況"
   ]
  },
  {
   "cell_type": "code",
   "execution_count": 22,
   "metadata": {},
   "outputs": [],
   "source": [
    "img_grey=cv2.cvtColor(img,cv2.COLOR_BGR2GRAY)\n",
    "\n",
    "# 對 x 方向做 Sobel 邊緣檢測\n",
    "img_sobel_x =cv2.Sobel(img_grey,cv2.CV_16S,dx=1,dy=0,ksize=3)\n",
    "#轉回unit8 type\n",
    "img_sobel_x=cv2.convertScaleAbs(img_sobel_x)\n",
    "\n",
    "# 對 x 方向直接以非負整數的資料格式 (uint8) 進行 Sobel 邊緣檢測\n",
    "img_sobel_x_uint8 = cv2.Sobel(img_grey,cv2.CV_8U,dx=1,dy=1,ksize=3)\n",
    "\n",
    "#　組合 + 顯示圖片\n",
    "img_show=np.hstack((img_grey,img_sobel_x,img_sobel_x_uint8))\n",
    "while True:\n",
    "    # 比較 Sobel 邊緣檢測的過程中針對負數操作的不同產生的差異\n",
    "    cv2.imshow('Edge Detection', img_show)\n",
    "    k = cv2.waitKey(0)\n",
    "    if k == 27:\n",
    "        cv2.destroyAllWindows()\n",
    "        break\n"
   ]
  },
  {
   "cell_type": "markdown",
   "metadata": {},
   "source": [
    "# 比較一次與兩次計算偏微分的結果"
   ]
  },
  {
   "cell_type": "code",
   "execution_count": 27,
   "metadata": {},
   "outputs": [],
   "source": [
    "img_grey = cv2.cvtColor(img, cv2.COLOR_BGR2GRAY)\n",
    "\n",
    "# 求一次導數取得邊緣檢測結果\n",
    "img_sobel_x = cv2.Sobel(img_grey,cv2.CV_16S,dx=1,dy=0,ksize=3)\n",
    "img_sobel_x =cv2.convertScaleAbs(img_sobel_x)\n",
    "\n",
    "# 求二次導數取得邊緣檢測結果\n",
    "img_sobel_xx = cv2.Sobel(img_grey,cv2.CV_16S,dx=2,dy=0,ksize=3)\n",
    "img_sobel_xx =cv2.convertScaleAbs(img_sobel_xx)\n",
    "#　組合 + 顯示圖片\n",
    "img_show = np.hstack((img_grey, img_sobel_x, img_sobel_xx))\n",
    "while True:\n",
    "    cv2.imshow('Edge Detection', img_show)\n",
    "    k = cv2.waitKey(0)\n",
    "    if k == 27:\n",
    "        cv2.destroyAllWindows()\n",
    "        break"
   ]
  },
  {
   "cell_type": "markdown",
   "metadata": {},
   "source": [
    "# example"
   ]
  },
  {
   "cell_type": "markdown",
   "metadata": {},
   "source": [
    "# Guassian blur"
   ]
  },
  {
   "cell_type": "code",
   "execution_count": 7,
   "metadata": {},
   "outputs": [],
   "source": [
    "img_blur = img.copy()\n",
    "\n",
    "# 重複多次 Gaussian 模糊的操作來加深模糊的程度\n",
    "img_blur = cv2.GaussianBlur(img_blur, (5, 5), 0)\n",
    "img_blur = cv2.GaussianBlur(img_blur, (5, 5), 0)\n",
    "img_blur = cv2.GaussianBlur(img_blur, (5, 5), 0)\n",
    "\n",
    "#　組合 + 顯示圖片\n",
    "img_show = np.hstack((img, img_blur))\n",
    "while True:\n",
    "    cv2.imshow('Gaussian Blur', img_show)\n",
    "    k = cv2.waitKey(0)\n",
    "    if k == 27:\n",
    "        cv2.destroyAllWindows()\n",
    "        break"
   ]
  },
  {
   "cell_type": "markdown",
   "metadata": {},
   "source": [
    "# edge detection\n",
    "# 組合 x-axis, y-axis 的影像合成"
   ]
  },
  {
   "cell_type": "code",
   "execution_count": 28,
   "metadata": {},
   "outputs": [],
   "source": [
    "img_grey = cv2.cvtColor(img, cv2.COLOR_BGR2GRAY)\n",
    "\n",
    "# 對 x 方向做 Sobel 邊緣檢測\n",
    "img_sobel_x = cv2.Sobel(img_grey, cv2.CV_16S, dx=1, dy=0, ksize=3)\n",
    "#cv2.CV_16SSobel函数求完导数后会有负值，还有会大于255的值。而原图像是uint8\n",
    "#，即8位无符号数，所以Sobel建立的图像位数不够，会有截断。因此要使用16位有符号的数据类型\n",
    "img_sobel_x = cv2.convertScaleAbs(img_sobel_x) #用convertScaleAbs()函数将其转回原来的uint8形式\n",
    "\n",
    "# 對 y 方向做 Sobel 邊緣檢測\n",
    "img_sobel_y = cv2.Sobel(img_grey, cv2.CV_16S, dx=0, dy=1, ksize=3)\n",
    "img_sobel_y = cv2.convertScaleAbs(img_sobel_y)\n",
    "\n",
    "# x, y 方向的邊緣檢測後的圖各以一半的全重進行合成\n",
    "img_sobel_combine = cv2.addWeighted(img_sobel_x, 0.5, img_sobel_y, 0.5, 0)\n",
    "\n",
    "#　組合 + 顯示圖片\n",
    "img_show = np.hstack((img_sobel_x, img_sobel_y, img_sobel_combine))\n",
    "while True:\n",
    "    cv2.imshow('Edge Detection', img_show)\n",
    "    k = cv2.waitKey(0)\n",
    "    if k == 27:\n",
    "        cv2.destroyAllWindows()\n",
    "        break"
   ]
  },
  {
   "cell_type": "markdown",
   "metadata": {},
   "source": [
    "# 補充"
   ]
  },
  {
   "cell_type": "code",
   "execution_count": 1,
   "metadata": {},
   "outputs": [],
   "source": [
    "#convolution/cross-correlation:\n",
    "#https://zhuanlan.zhihu.com/p/33194385\n",
    "\n",
    "#Sobel算子:\n",
    "#https://blog.csdn.net/sunny2038/article/details/9170013"
   ]
  }
 ],
 "metadata": {
  "kernelspec": {
   "display_name": "Python 3",
   "language": "python",
   "name": "python3"
  },
  "language_info": {
   "codemirror_mode": {
    "name": "ipython",
    "version": 3
   },
   "file_extension": ".py",
   "mimetype": "text/x-python",
   "name": "python",
   "nbconvert_exporter": "python",
   "pygments_lexer": "ipython3",
   "version": "3.7.4"
  }
 },
 "nbformat": 4,
 "nbformat_minor": 2
}
